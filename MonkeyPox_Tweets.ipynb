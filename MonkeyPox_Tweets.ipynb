{
  "cells": [
    {
      "cell_type": "markdown",
      "source": [
        "## Montando o drive para carregar o dataset"
      ],
      "metadata": {
        "id": "wB-vx1DlhZXv"
      }
    },
    {
      "cell_type": "code",
      "source": [
        "pip install prov"
      ],
      "metadata": {
        "id": "4o9JPXexmBro"
      },
      "execution_count": null,
      "outputs": []
    },
    {
      "cell_type": "code",
      "source": [
        "!python -m spacy download pt_core_news_lg\n",
        "!pip install mglearn"
      ],
      "metadata": {
        "id": "Wd-1GbEilwLP"
      },
      "execution_count": null,
      "outputs": []
    },
    {
      "cell_type": "code",
      "source": [
        "from prov.model import ProvDocument, Namespace, Literal, PROV, Identifier\n",
        "import datetime\n",
        "\n",
        "g = ProvDocument(\n",
        "    namespaces={\n",
        "        \"ex\": \"MonkeyPox Feelings\",\n",
        "        \"dcterms\": \"http://purl.org/dc/terms/\",\n",
        "        \"foaf\": \"http://xmlns.com/foaf/0.1/\",\n",
        "    }\n",
        ")\n",
        "\n",
        "article = g.entity(\"ex:article\", {\"dcterms:title\": \"MonkeyPox Feelings - Uma análise de sentimentos de tweets sobre a MonkeyPox\"})"
      ],
      "metadata": {
        "id": "VGZCwDn8oVpg"
      },
      "execution_count": null,
      "outputs": []
    },
    {
      "cell_type": "code",
      "source": [
        "from google.colab import drive\n",
        "drive.mount('/content/drive',force_remount=True)"
      ],
      "metadata": {
        "id": "0RpbCWcQK5ho"
      },
      "execution_count": null,
      "outputs": []
    },
    {
      "cell_type": "code",
      "source": [
        "import os\n",
        "cwd = os.getcwd()\n",
        "absolute_path = \"drive/MyDrive/MestradoPPGI/topicos-ds/\"\n",
        "os.chdir(absolute_path)"
      ],
      "metadata": {
        "id": "ObvatlgH3Oqa"
      },
      "execution_count": null,
      "outputs": []
    },
    {
      "cell_type": "markdown",
      "source": [
        "## Carregando o dataset"
      ],
      "metadata": {
        "id": "_dtECVRJjORd"
      }
    },
    {
      "cell_type": "code",
      "execution_count": null,
      "metadata": {
        "id": "WXgoKulzH95I"
      },
      "outputs": [],
      "source": [
        "import pandas as pd\n",
        "import json"
      ]
    },
    {
      "cell_type": "code",
      "source": [
        "with open(\"teste.json\",\"r\") as f:\n",
        "    json_str = f'[{f.read()}]'\n",
        "    obj_list = json.loads(json_str)"
      ],
      "metadata": {
        "id": "1U8T5xQ8S16R"
      },
      "execution_count": null,
      "outputs": []
    },
    {
      "cell_type": "code",
      "source": [
        "data = pd.DataFrame.from_dict(obj_list)"
      ],
      "metadata": {
        "id": "EvAqgsCpTB7N"
      },
      "execution_count": null,
      "outputs": []
    },
    {
      "cell_type": "code",
      "source": [
        "tweets = pd.DataFrame.from_dict(data[\"data\"][0])"
      ],
      "metadata": {
        "id": "nHPaCDQhUJlj"
      },
      "execution_count": null,
      "outputs": []
    },
    {
      "cell_type": "markdown",
      "source": [
        "## Quantidade de Tweets Coletados, Tweet mais antigo e Tweet mais recente"
      ],
      "metadata": {
        "id": "KhTuqsu8x5Rq"
      }
    },
    {
      "cell_type": "code",
      "source": [
        "print(f\"Quantidade Tweets: {len(tweets.index)},\\nTweet mais antigo: {tweets['created_at'].min()},\\nTweet mais recente: {tweets['created_at'].max()}\")"
      ],
      "metadata": {
        "id": "m7TyVMVZx010"
      },
      "execution_count": null,
      "outputs": []
    },
    {
      "cell_type": "code",
      "source": [
        "tweets.head()"
      ],
      "metadata": {
        "id": "FY4P8ssUZOhw"
      },
      "execution_count": null,
      "outputs": []
    },
    {
      "cell_type": "code",
      "source": [
        "tweets[\"text\"][1]"
      ],
      "metadata": {
        "id": "u7v1gi3CmX-Y"
      },
      "execution_count": null,
      "outputs": []
    },
    {
      "cell_type": "markdown",
      "source": [
        "## Aplicando Stopwords "
      ],
      "metadata": {
        "id": "sL_T1SJ-jg5F"
      }
    },
    {
      "cell_type": "code",
      "source": [
        "import nltk\n",
        "from nltk.corpus import stopwords\n",
        "nltk.download('stopwords')\n",
        "nltk.download('punkt')\n",
        "stopwords_br = set(stopwords.words('portuguese'))\n",
        "\n",
        "stopwords_br.update([\"https\", \"t\", \"t.co\", \"twitter\", \"t co\",\"damadanoite14\", \"RT\",\"RT Dr\",\"co\"])\n"
      ],
      "metadata": {
        "id": "F3LtFoSVZlpO"
      },
      "execution_count": null,
      "outputs": []
    },
    {
      "cell_type": "code",
      "source": [
        "from nltk.tokenize import word_tokenize\n",
        "tokens = []\n",
        "for each in tweets.index:\n",
        "    word_tokens = word_tokenize(tweets.iloc[each]['text'])\n",
        "    tokens.append(word_tokens)\n"
      ],
      "metadata": {
        "id": "4_Q2LztVNIxm"
      },
      "execution_count": null,
      "outputs": []
    },
    {
      "cell_type": "code",
      "source": [
        "filtered_sentence = []\n",
        "for tk in tokens:\n",
        "    for w in tk:\n",
        "        if w.lower() not in stopwords_br:\n",
        "            filtered_sentence.append(w)"
      ],
      "metadata": {
        "id": "9WO5flfUNIm5"
      },
      "execution_count": null,
      "outputs": []
    },
    {
      "cell_type": "markdown",
      "source": [
        "## Visualizando palavras mais recorrentes no Wordcloud"
      ],
      "metadata": {
        "id": "vXTu-6SRjp6t"
      }
    },
    {
      "cell_type": "code",
      "source": [
        "from PIL import Image\n",
        "from wordcloud import WordCloud, ImageColorGenerator\n",
        "\n",
        "import matplotlib.pyplot as plt\n",
        "%matplotlib inline\n",
        "\n",
        "# Start with one review:\n",
        "text = \" \".join(word for word in filtered_sentence)\n",
        "\n",
        "# Create and generate a word cloud image:\n",
        "wordcloud = WordCloud().generate(text)\n",
        "\n",
        "# Display the generated image:\n",
        "plt.figure(figsize=[10,5])\n",
        "\n",
        "plt.imshow(wordcloud, interpolation='bilinear')\n",
        "plt.axis(\"off\")\n",
        "plt.show()"
      ],
      "metadata": {
        "id": "z6YqQyXCV6mX"
      },
      "execution_count": null,
      "outputs": []
    },
    {
      "cell_type": "markdown",
      "source": [
        "## Carregando modelo SVC"
      ],
      "metadata": {
        "id": "am4T0g9Kjzi1"
      }
    },
    {
      "cell_type": "code",
      "source": [
        "from model import modelo"
      ],
      "metadata": {
        "id": "LCIh1Tk7V6kP"
      },
      "execution_count": null,
      "outputs": []
    },
    {
      "cell_type": "markdown",
      "source": [
        "## Classificando Tweets com o modelo SVC"
      ],
      "metadata": {
        "id": "GMzj5OUJj2l5"
      }
    },
    {
      "cell_type": "code",
      "source": [
        "saida = \"\"\n",
        "teste = modelo.fazer_previsoes(tweets, saida)"
      ],
      "metadata": {
        "id": "-X6C1RyXkGPW"
      },
      "execution_count": null,
      "outputs": []
    },
    {
      "cell_type": "markdown",
      "source": [
        "## Levantando estatísticas quantativas de Sentimento x Tweet"
      ],
      "metadata": {
        "id": "nAdQ6v9Mj9nX"
      }
    },
    {
      "cell_type": "code",
      "source": [
        "from collections import Counter\n",
        "sentimentos_dist= Counter(teste[\"Sentimento\"])"
      ],
      "metadata": {
        "id": "xpd5lprJkGHB"
      },
      "execution_count": null,
      "outputs": []
    },
    {
      "cell_type": "code",
      "source": [
        "sentimentos_dist"
      ],
      "metadata": {
        "id": "clRTd3LzeY1S"
      },
      "execution_count": null,
      "outputs": []
    },
    {
      "cell_type": "code",
      "source": [
        "from matplotlib import pyplot as plt\n",
        "x = sentimentos_dist.keys()\n",
        "y = sentimentos_dist.values()\n",
        "\n",
        "plt.bar(x,y,width = 0.5)\n",
        "plt.show()\n"
      ],
      "metadata": {
        "id": "MwIi07bZLJsG"
      },
      "execution_count": null,
      "outputs": []
    },
    {
      "cell_type": "markdown",
      "source": [
        "## Analise quantativa de Sentimento x Tweet com o termo \"gay\"."
      ],
      "metadata": {
        "id": "q83jV3iakHTK"
      }
    },
    {
      "cell_type": "code",
      "source": [
        "teste[\"gays\"] = (teste[\"Tweet\"].str.lower()\n",
        "                            .str.contains(\"gay\", regex=False, na=False)\n",
        "                            .astype(int))"
      ],
      "metadata": {
        "id": "h165nDLaId1P"
      },
      "execution_count": null,
      "outputs": []
    },
    {
      "cell_type": "code",
      "source": [
        "df_gays = teste.loc[teste[\"gays\"] == 1]"
      ],
      "metadata": {
        "id": "iVrqCWF8V_cj"
      },
      "execution_count": null,
      "outputs": []
    },
    {
      "cell_type": "code",
      "source": [
        "df_gays.head(10)"
      ],
      "metadata": {
        "id": "9GLCRCkuW0Vr"
      },
      "execution_count": null,
      "outputs": []
    },
    {
      "cell_type": "code",
      "source": [
        "qtd_sentimentos_gays = dict(Counter(df_gays[\"Sentimento\"]))"
      ],
      "metadata": {
        "id": "pxkIAihbXiU9"
      },
      "execution_count": null,
      "outputs": []
    },
    {
      "cell_type": "code",
      "source": [
        "qtd_sentimentos_gays"
      ],
      "metadata": {
        "id": "itj2QgbXX-UU"
      },
      "execution_count": null,
      "outputs": []
    },
    {
      "cell_type": "code",
      "source": [
        "from matplotlib import pyplot as plt\n",
        "x = qtd_sentimentos_gays.keys()\n",
        "y = qtd_sentimentos_gays.values()\n",
        "\n",
        "plt.bar(x,y,width = 0.5)\n",
        "plt.show()"
      ],
      "metadata": {
        "id": "Vm6mb4LJYB9f"
      },
      "execution_count": null,
      "outputs": []
    },
    {
      "cell_type": "code",
      "source": [],
      "metadata": {
        "id": "zX8Vn9qLYJKz"
      },
      "execution_count": null,
      "outputs": []
    }
  ],
  "metadata": {
    "colab": {
      "provenance": [],
      "collapsed_sections": [],
      "private_outputs": true,
      "toc_visible": true
    },
    "kernelspec": {
      "display_name": "Python 3",
      "name": "python3"
    },
    "language_info": {
      "name": "python"
    },
    "accelerator": "GPU"
  },
  "nbformat": 4,
  "nbformat_minor": 0
}